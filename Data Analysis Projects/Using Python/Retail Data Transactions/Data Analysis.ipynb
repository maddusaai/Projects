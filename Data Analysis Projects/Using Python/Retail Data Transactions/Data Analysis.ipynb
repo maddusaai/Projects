{
 "cells": [
  {
   "cell_type": "markdown",
   "id": "def951ba",
   "metadata": {},
   "source": [
    "Metadata\n",
    "\n",
    "This analysis includes working with two datasets:\n",
    "\n",
    "  1. Retail Data Transactions\n",
    "\n",
    "  2. Retail Data Response\n",
    "\n",
    "Retail Data Transactions contains:\n",
    "\n",
    "  1. customer_id : A unique id given to every customer whoever made a transaction.\n",
    "\n",
    "  2. trans_date : The date when the transaction was made.\n",
    "\n",
    "  3. trans_amount : The amount of purchase.\n",
    "\n",
    "Retail Data Response contains: \n",
    "\n",
    "  1. customer_id : A unique id given to every customer whoever made a transaction.\n",
    "\n",
    "  2. response : provides the response information of each of the customers. It is a binary variable indicating whether the customer responded to a campaign or not."
   ]
  },
  {
   "cell_type": "code",
   "execution_count": 58,
   "id": "22d33a3d",
   "metadata": {},
   "outputs": [],
   "source": [
    "#importing necessary libraries\n",
    "import pandas as pd\n",
    "import matplotlib.pyplot as plt\n",
    "import seaborn as sns\n",
    "import numpy as np\n",
    "from scipy import stats"
   ]
  },
  {
   "cell_type": "code",
   "execution_count": 27,
   "id": "c7e38653",
   "metadata": {},
   "outputs": [],
   "source": [
    "#importing the datasets\n",
    "trans = pd.read_csv(\"Retail_Data_Transactions.csv\")\n",
    "res = pd.read_csv(\"Retail_Data_Response.csv\")"
   ]
  },
  {
   "cell_type": "code",
   "execution_count": 28,
   "id": "a0464caa",
   "metadata": {},
   "outputs": [
    {
     "data": {
      "text/html": [
       "<div>\n",
       "<style scoped>\n",
       "    .dataframe tbody tr th:only-of-type {\n",
       "        vertical-align: middle;\n",
       "    }\n",
       "\n",
       "    .dataframe tbody tr th {\n",
       "        vertical-align: top;\n",
       "    }\n",
       "\n",
       "    .dataframe thead th {\n",
       "        text-align: right;\n",
       "    }\n",
       "</style>\n",
       "<table border=\"1\" class=\"dataframe\">\n",
       "  <thead>\n",
       "    <tr style=\"text-align: right;\">\n",
       "      <th></th>\n",
       "      <th>customer_id</th>\n",
       "      <th>response</th>\n",
       "    </tr>\n",
       "  </thead>\n",
       "  <tbody>\n",
       "    <tr>\n",
       "      <th>0</th>\n",
       "      <td>CS1112</td>\n",
       "      <td>0</td>\n",
       "    </tr>\n",
       "    <tr>\n",
       "      <th>1</th>\n",
       "      <td>CS1113</td>\n",
       "      <td>0</td>\n",
       "    </tr>\n",
       "    <tr>\n",
       "      <th>2</th>\n",
       "      <td>CS1114</td>\n",
       "      <td>1</td>\n",
       "    </tr>\n",
       "    <tr>\n",
       "      <th>3</th>\n",
       "      <td>CS1115</td>\n",
       "      <td>1</td>\n",
       "    </tr>\n",
       "    <tr>\n",
       "      <th>4</th>\n",
       "      <td>CS1116</td>\n",
       "      <td>1</td>\n",
       "    </tr>\n",
       "  </tbody>\n",
       "</table>\n",
       "</div>"
      ],
      "text/plain": [
       "  customer_id  response\n",
       "0      CS1112         0\n",
       "1      CS1113         0\n",
       "2      CS1114         1\n",
       "3      CS1115         1\n",
       "4      CS1116         1"
      ]
     },
     "execution_count": 28,
     "metadata": {},
     "output_type": "execute_result"
    }
   ],
   "source": [
    "res.head()"
   ]
  },
  {
   "cell_type": "code",
   "execution_count": 29,
   "id": "aba160d8",
   "metadata": {},
   "outputs": [
    {
     "data": {
      "text/html": [
       "<div>\n",
       "<style scoped>\n",
       "    .dataframe tbody tr th:only-of-type {\n",
       "        vertical-align: middle;\n",
       "    }\n",
       "\n",
       "    .dataframe tbody tr th {\n",
       "        vertical-align: top;\n",
       "    }\n",
       "\n",
       "    .dataframe thead th {\n",
       "        text-align: right;\n",
       "    }\n",
       "</style>\n",
       "<table border=\"1\" class=\"dataframe\">\n",
       "  <thead>\n",
       "    <tr style=\"text-align: right;\">\n",
       "      <th></th>\n",
       "      <th>customer_id</th>\n",
       "      <th>trans_date</th>\n",
       "      <th>tran_amount</th>\n",
       "    </tr>\n",
       "  </thead>\n",
       "  <tbody>\n",
       "    <tr>\n",
       "      <th>0</th>\n",
       "      <td>CS5295</td>\n",
       "      <td>11-Feb-13</td>\n",
       "      <td>35</td>\n",
       "    </tr>\n",
       "    <tr>\n",
       "      <th>1</th>\n",
       "      <td>CS4768</td>\n",
       "      <td>15-Mar-15</td>\n",
       "      <td>39</td>\n",
       "    </tr>\n",
       "    <tr>\n",
       "      <th>2</th>\n",
       "      <td>CS2122</td>\n",
       "      <td>26-Feb-13</td>\n",
       "      <td>52</td>\n",
       "    </tr>\n",
       "    <tr>\n",
       "      <th>3</th>\n",
       "      <td>CS1217</td>\n",
       "      <td>16-Nov-11</td>\n",
       "      <td>99</td>\n",
       "    </tr>\n",
       "    <tr>\n",
       "      <th>4</th>\n",
       "      <td>CS1850</td>\n",
       "      <td>20-Nov-13</td>\n",
       "      <td>78</td>\n",
       "    </tr>\n",
       "  </tbody>\n",
       "</table>\n",
       "</div>"
      ],
      "text/plain": [
       "  customer_id trans_date  tran_amount\n",
       "0      CS5295  11-Feb-13           35\n",
       "1      CS4768  15-Mar-15           39\n",
       "2      CS2122  26-Feb-13           52\n",
       "3      CS1217  16-Nov-11           99\n",
       "4      CS1850  20-Nov-13           78"
      ]
     },
     "execution_count": 29,
     "metadata": {},
     "output_type": "execute_result"
    }
   ],
   "source": [
    "trans.head()"
   ]
  },
  {
   "cell_type": "code",
   "execution_count": 30,
   "id": "f4e8da90",
   "metadata": {},
   "outputs": [
    {
     "name": "stdout",
     "output_type": "stream",
     "text": [
      "Transaction dataset shape:  (125000, 3)\n",
      "Response dataset shape:  (6884, 2)\n"
     ]
    }
   ],
   "source": [
    "print(\"Transaction dataset shape: \",trans.shape)\n",
    "print(\"Response dataset shape: \",res.shape)"
   ]
  },
  {
   "cell_type": "markdown",
   "id": "19addd0b",
   "metadata": {},
   "source": [
    "# Data Cleaning"
   ]
  },
  {
   "cell_type": "code",
   "execution_count": 44,
   "id": "125f8393",
   "metadata": {},
   "outputs": [],
   "source": [
    "#Merging both datasets into a single dataset\n",
    "df = trans.merge(res,how = 'left',on = 'customer_id')"
   ]
  },
  {
   "cell_type": "code",
   "execution_count": 45,
   "id": "b7a8d4cb",
   "metadata": {},
   "outputs": [
    {
     "data": {
      "text/html": [
       "<div>\n",
       "<style scoped>\n",
       "    .dataframe tbody tr th:only-of-type {\n",
       "        vertical-align: middle;\n",
       "    }\n",
       "\n",
       "    .dataframe tbody tr th {\n",
       "        vertical-align: top;\n",
       "    }\n",
       "\n",
       "    .dataframe thead th {\n",
       "        text-align: right;\n",
       "    }\n",
       "</style>\n",
       "<table border=\"1\" class=\"dataframe\">\n",
       "  <thead>\n",
       "    <tr style=\"text-align: right;\">\n",
       "      <th></th>\n",
       "      <th>customer_id</th>\n",
       "      <th>trans_date</th>\n",
       "      <th>tran_amount</th>\n",
       "      <th>response</th>\n",
       "    </tr>\n",
       "  </thead>\n",
       "  <tbody>\n",
       "    <tr>\n",
       "      <th>0</th>\n",
       "      <td>CS5295</td>\n",
       "      <td>11-Feb-13</td>\n",
       "      <td>35</td>\n",
       "      <td>1.0</td>\n",
       "    </tr>\n",
       "    <tr>\n",
       "      <th>1</th>\n",
       "      <td>CS4768</td>\n",
       "      <td>15-Mar-15</td>\n",
       "      <td>39</td>\n",
       "      <td>1.0</td>\n",
       "    </tr>\n",
       "    <tr>\n",
       "      <th>2</th>\n",
       "      <td>CS2122</td>\n",
       "      <td>26-Feb-13</td>\n",
       "      <td>52</td>\n",
       "      <td>0.0</td>\n",
       "    </tr>\n",
       "    <tr>\n",
       "      <th>3</th>\n",
       "      <td>CS1217</td>\n",
       "      <td>16-Nov-11</td>\n",
       "      <td>99</td>\n",
       "      <td>0.0</td>\n",
       "    </tr>\n",
       "    <tr>\n",
       "      <th>4</th>\n",
       "      <td>CS1850</td>\n",
       "      <td>20-Nov-13</td>\n",
       "      <td>78</td>\n",
       "      <td>0.0</td>\n",
       "    </tr>\n",
       "  </tbody>\n",
       "</table>\n",
       "</div>"
      ],
      "text/plain": [
       "  customer_id trans_date  tran_amount  response\n",
       "0      CS5295  11-Feb-13           35       1.0\n",
       "1      CS4768  15-Mar-15           39       1.0\n",
       "2      CS2122  26-Feb-13           52       0.0\n",
       "3      CS1217  16-Nov-11           99       0.0\n",
       "4      CS1850  20-Nov-13           78       0.0"
      ]
     },
     "execution_count": 45,
     "metadata": {},
     "output_type": "execute_result"
    }
   ],
   "source": [
    "df.head()"
   ]
  },
  {
   "cell_type": "code",
   "execution_count": 46,
   "id": "bd411e79",
   "metadata": {},
   "outputs": [
    {
     "name": "stdout",
     "output_type": "stream",
     "text": [
      "Shape of the dataset after merging:  (125000, 4)\n"
     ]
    }
   ],
   "source": [
    "print('Shape of the dataset after merging: ',df.shape)"
   ]
  },
  {
   "cell_type": "code",
   "execution_count": 47,
   "id": "e542cb2c",
   "metadata": {},
   "outputs": [
    {
     "data": {
      "text/plain": [
       "customer_id     0\n",
       "trans_date      0\n",
       "tran_amount     0\n",
       "response       31\n",
       "dtype: int64"
      ]
     },
     "execution_count": 47,
     "metadata": {},
     "output_type": "execute_result"
    }
   ],
   "source": [
    "#checking the null values in the dataset\n",
    "df.isnull().sum()"
   ]
  },
  {
   "cell_type": "code",
   "execution_count": 48,
   "id": "6300b8db",
   "metadata": {},
   "outputs": [],
   "source": [
    "#droping the rows with null values\n",
    "df = df.dropna()"
   ]
  },
  {
   "cell_type": "markdown",
   "id": "62fb6a00",
   "metadata": {},
   "source": [
    "The reason for dropping the rows with null values is because it does not make any difference if those records are there or not as we have 125000 rows. The 31 rows doesn't make any difference"
   ]
  },
  {
   "cell_type": "code",
   "execution_count": 49,
   "id": "b3e53938",
   "metadata": {},
   "outputs": [
    {
     "name": "stdout",
     "output_type": "stream",
     "text": [
      "Shape of the dataset after dropping some rows:  (124969, 4)\n"
     ]
    }
   ],
   "source": [
    "print('Shape of the dataset after dropping some rows: ',df.shape)"
   ]
  },
  {
   "cell_type": "code",
   "execution_count": 50,
   "id": "ed022d87",
   "metadata": {},
   "outputs": [
    {
     "data": {
      "text/plain": [
       "customer_id     object\n",
       "trans_date      object\n",
       "tran_amount      int64\n",
       "response       float64\n",
       "dtype: object"
      ]
     },
     "execution_count": 50,
     "metadata": {},
     "output_type": "execute_result"
    }
   ],
   "source": [
    "#Checking the data types of each column\n",
    "df.dtypes"
   ]
  },
  {
   "cell_type": "markdown",
   "id": "2db8a6a0",
   "metadata": {},
   "source": [
    "The datatype of 'trans_date' column is string, which makes it difficult to use while doing analysis. So changing the data type accordingly for further analysis"
   ]
  },
  {
   "cell_type": "code",
   "execution_count": 51,
   "id": "684f8ddb",
   "metadata": {},
   "outputs": [
    {
     "name": "stderr",
     "output_type": "stream",
     "text": [
      "<ipython-input-51-7af262f49c9f>:1: UserWarning: Could not infer format, so each element will be parsed individually, falling back to `dateutil`. To ensure parsing is consistent and as-expected, please specify a format.\n",
      "  df.trans_date = pd.to_datetime(df.trans_date)\n"
     ]
    }
   ],
   "source": [
    "df.trans_date = pd.to_datetime(df.trans_date)"
   ]
  },
  {
   "cell_type": "code",
   "execution_count": 52,
   "id": "9fc0ed7d",
   "metadata": {},
   "outputs": [],
   "source": [
    "df['response'] = df.response.astype('int64')"
   ]
  },
  {
   "cell_type": "code",
   "execution_count": 53,
   "id": "31a51c8b",
   "metadata": {},
   "outputs": [
    {
     "data": {
      "text/plain": [
       "customer_id            object\n",
       "trans_date     datetime64[ns]\n",
       "tran_amount             int64\n",
       "response                int64\n",
       "dtype: object"
      ]
     },
     "execution_count": 53,
     "metadata": {},
     "output_type": "execute_result"
    }
   ],
   "source": [
    "df.dtypes"
   ]
  },
  {
   "cell_type": "markdown",
   "id": "967c0cb4",
   "metadata": {},
   "source": [
    "# Checking Outliers"
   ]
  },
  {
   "cell_type": "markdown",
   "id": "8792ab1a",
   "metadata": {},
   "source": [
    "z-score method"
   ]
  },
  {
   "cell_type": "code",
   "execution_count": 62,
   "id": "420cca3c",
   "metadata": {},
   "outputs": [
    {
     "name": "stdout",
     "output_type": "stream",
     "text": [
      "Number of outliers in the tran_amount column are:  0\n"
     ]
    }
   ],
   "source": [
    "z_scores = np.abs(stats.zscore(df['tran_amount']))\n",
    "threshold = 3\n",
    "outliers = z_scores > threshold\n",
    "print(\"Number of outliers in the tran_amount column are: \",outliers.sum())"
   ]
  },
  {
   "cell_type": "markdown",
   "id": "004fb6c8",
   "metadata": {},
   "source": [
    "IQR method"
   ]
  },
  {
   "cell_type": "code",
   "execution_count": 74,
   "id": "5b256d3b",
   "metadata": {},
   "outputs": [
    {
     "name": "stdout",
     "output_type": "stream",
     "text": [
      "No of outliers in the tran_amount column is:  0\n"
     ]
    }
   ],
   "source": [
    "q3 = df.tran_amount.quantile(0.75)\n",
    "q1 = df.tran_amount.quantile(0.25)\n",
    "iqr = q3 - q1\n",
    "upper_quartile = q3 + (1.5 * iqr)\n",
    "lower_quartile = q1 - (1.5 * iqr)\n",
    "outliers = df[(df.tran_amount >upper_quartile) | (df.tran_amount < lower_quartile)]\n",
    "print('No of outliers in the tran_amount column is: ',outliers.shape[0])"
   ]
  },
  {
   "cell_type": "markdown",
   "id": "3e2c1553",
   "metadata": {},
   "source": [
    "Using Boxplot"
   ]
  },
  {
   "cell_type": "code",
   "execution_count": 67,
   "id": "a39ed2cc",
   "metadata": {},
   "outputs": [
    {
     "data": {
      "image/png": "[encoded data removed]",
      "text/plain": [
       "<Figure size 432x288 with 1 Axes>"
      ]
     },
     "metadata": {
      "needs_background": "light"
     },
     "output_type": "display_data"
    }
   ],
   "source": [
    "sns.boxplot(x = df.tran_amount)\n",
    "plt.show()"
   ]
  },
  {
   "cell_type": "markdown",
   "id": "e6f0cf7b",
   "metadata": {},
   "source": [
    "# Data Preperation"
   ]
  },
  {
   "cell_type": "markdown",
   "id": "c477cbe1",
   "metadata": {},
   "source": [
    "Adding some new columns in the dataframe"
   ]
  },
  {
   "cell_type": "code",
   "execution_count": 218,
   "id": "ef9dc4b2",
   "metadata": {},
   "outputs": [],
   "source": [
    "def get_month_name(month_number):\n",
    "    return pd.Timestamp(month_number - 1, unit='M').strftime('%B')"
   ]
  },
  {
   "cell_type": "code",
   "execution_count": 219,
   "id": "0ec28b2f",
   "metadata": {},
   "outputs": [],
   "source": [
    "df['month'] = df.trans_date.dt.month\n",
    "df['year'] = df.trans_date.dt.year\n",
    "df['day'] = df.trans_date.dt.day\n",
    "df['month_name'] = df['month'].apply(get_month_name)"
   ]
  },
  {
   "cell_type": "markdown",
   "id": "66a54173",
   "metadata": {},
   "source": [
    "# Data Analysis"
   ]
  },
  {
   "cell_type": "code",
   "execution_count": 141,
   "id": "e284a990",
   "metadata": {},
   "outputs": [
    {
     "data": {
      "text/html": [
       "<div>\n",
       "<style scoped>\n",
       "    .dataframe tbody tr th:only-of-type {\n",
       "        vertical-align: middle;\n",
       "    }\n",
       "\n",
       "    .dataframe tbody tr th {\n",
       "        vertical-align: top;\n",
       "    }\n",
       "\n",
       "    .dataframe thead th {\n",
       "        text-align: right;\n",
       "    }\n",
       "</style>\n",
       "<table border=\"1\" class=\"dataframe\">\n",
       "  <thead>\n",
       "    <tr style=\"text-align: right;\">\n",
       "      <th></th>\n",
       "      <th>customer_id</th>\n",
       "      <th>count</th>\n",
       "    </tr>\n",
       "  </thead>\n",
       "  <tbody>\n",
       "    <tr>\n",
       "      <th>0</th>\n",
       "      <td>CS4424</td>\n",
       "      <td>39</td>\n",
       "    </tr>\n",
       "    <tr>\n",
       "      <th>1</th>\n",
       "      <td>CS4320</td>\n",
       "      <td>38</td>\n",
       "    </tr>\n",
       "    <tr>\n",
       "      <th>2</th>\n",
       "      <td>CS3799</td>\n",
       "      <td>36</td>\n",
       "    </tr>\n",
       "    <tr>\n",
       "      <th>3</th>\n",
       "      <td>CS3013</td>\n",
       "      <td>35</td>\n",
       "    </tr>\n",
       "    <tr>\n",
       "      <th>4</th>\n",
       "      <td>CS1215</td>\n",
       "      <td>35</td>\n",
       "    </tr>\n",
       "  </tbody>\n",
       "</table>\n",
       "</div>"
      ],
      "text/plain": [
       "  customer_id  count\n",
       "0      CS4424     39\n",
       "1      CS4320     38\n",
       "2      CS3799     36\n",
       "3      CS3013     35\n",
       "4      CS1215     35"
      ]
     },
     "execution_count": 141,
     "metadata": {},
     "output_type": "execute_result"
    }
   ],
   "source": [
    "#Top 5 customers with most transactions\n",
    "topcus = pd.DataFrame(df.customer_id.value_counts().reset_index().head())\n",
    "topcus"
   ]
  },
  {
   "cell_type": "code",
   "execution_count": 174,
   "id": "b20efac7",
   "metadata": {},
   "outputs": [
    {
     "data": {
      "text/html": [
       "<div>\n",
       "<style scoped>\n",
       "    .dataframe tbody tr th:only-of-type {\n",
       "        vertical-align: middle;\n",
       "    }\n",
       "\n",
       "    .dataframe tbody tr th {\n",
       "        vertical-align: top;\n",
       "    }\n",
       "\n",
       "    .dataframe thead th {\n",
       "        text-align: right;\n",
       "    }\n",
       "</style>\n",
       "<table border=\"1\" class=\"dataframe\">\n",
       "  <thead>\n",
       "    <tr style=\"text-align: right;\">\n",
       "      <th></th>\n",
       "      <th>tran_amount</th>\n",
       "    </tr>\n",
       "    <tr>\n",
       "      <th>customer_id</th>\n",
       "      <th></th>\n",
       "    </tr>\n",
       "  </thead>\n",
       "  <tbody>\n",
       "    <tr>\n",
       "      <th>CS4424</th>\n",
       "      <td>2933</td>\n",
       "    </tr>\n",
       "    <tr>\n",
       "      <th>CS4320</th>\n",
       "      <td>2647</td>\n",
       "    </tr>\n",
       "    <tr>\n",
       "      <th>CS5752</th>\n",
       "      <td>2612</td>\n",
       "    </tr>\n",
       "    <tr>\n",
       "      <th>CS4660</th>\n",
       "      <td>2527</td>\n",
       "    </tr>\n",
       "    <tr>\n",
       "      <th>CS3799</th>\n",
       "      <td>2513</td>\n",
       "    </tr>\n",
       "  </tbody>\n",
       "</table>\n",
       "</div>"
      ],
      "text/plain": [
       "             tran_amount\n",
       "customer_id             \n",
       "CS4424              2933\n",
       "CS4320              2647\n",
       "CS5752              2612\n",
       "CS4660              2527\n",
       "CS3799              2513"
      ]
     },
     "execution_count": 174,
     "metadata": {},
     "output_type": "execute_result"
    }
   ],
   "source": [
    "#Top 5 customers with highest overall transaction amount\n",
    "topcusamt = pd.DataFrame(df.groupby('customer_id')['tran_amount'].sum().sort_values(ascending = False).head())\n",
    "topcusamt"
   ]
  },
  {
   "cell_type": "code",
   "execution_count": 175,
   "id": "cc363051",
   "metadata": {},
   "outputs": [
    {
     "data": {
      "text/plain": [
       "<AxesSubplot:xlabel='customer_id', ylabel='count'>"
      ]
     },
     "execution_count": 175,
     "metadata": {},
     "output_type": "execute_result"
    },
    {
     "data": {
      "image/png": "[encoded data removed]",
      "text/plain": [
       "<Figure size 432x288 with 1 Axes>"
      ]
     },
     "metadata": {
      "needs_background": "light"
     },
     "output_type": "display_data"
    }
   ],
   "source": [
    "sns.barplot(x = 'customer_id',y='count',data = topcus)"
   ]
  },
  {
   "cell_type": "code",
   "execution_count": 177,
   "id": "bad41302",
   "metadata": {},
   "outputs": [
    {
     "data": {
      "text/plain": [
       "<AxesSubplot:xlabel='customer_id'>"
      ]
     },
     "execution_count": 177,
     "metadata": {},
     "output_type": "execute_result"
    },
    {
     "data": {
      "image/png": "[encoded data removed]",
      "text/plain": [
       "<Figure size 432x288 with 1 Axes>"
      ]
     },
     "metadata": {
      "needs_background": "light"
     },
     "output_type": "display_data"
    }
   ],
   "source": [
    "topcusamt.plot(kind = 'bar')"
   ]
  },
  {
   "cell_type": "markdown",
   "id": "7a613c70",
   "metadata": {},
   "source": [
    "From the above two charts we can interpret the customers with highest no of transactions and highest value of transactions.\n",
    "\n",
    "We can see that CS3799 has made many transactions but the amount he spent in those transactions is less.\n",
    "\n",
    "Similarly, CS5752 has not made many transactions compared to top 5 people but the money he spent is greater than CS3799"
   ]
  },
  {
   "cell_type": "code",
   "execution_count": 249,
   "id": "9df0bbb0",
   "metadata": {},
   "outputs": [
    {
     "data": {
      "text/html": [
       "<div>\n",
       "<style scoped>\n",
       "    .dataframe tbody tr th:only-of-type {\n",
       "        vertical-align: middle;\n",
       "    }\n",
       "\n",
       "    .dataframe tbody tr th {\n",
       "        vertical-align: top;\n",
       "    }\n",
       "\n",
       "    .dataframe thead th {\n",
       "        text-align: right;\n",
       "    }\n",
       "</style>\n",
       "<table border=\"1\" class=\"dataframe\">\n",
       "  <thead>\n",
       "    <tr style=\"text-align: right;\">\n",
       "      <th></th>\n",
       "      <th>month</th>\n",
       "      <th>month_name</th>\n",
       "      <th>tran_amount</th>\n",
       "    </tr>\n",
       "  </thead>\n",
       "  <tbody>\n",
       "    <tr>\n",
       "      <th>0</th>\n",
       "      <td>1</td>\n",
       "      <td>January</td>\n",
       "      <td>724089</td>\n",
       "    </tr>\n",
       "    <tr>\n",
       "      <th>1</th>\n",
       "      <td>2</td>\n",
       "      <td>February</td>\n",
       "      <td>645028</td>\n",
       "    </tr>\n",
       "    <tr>\n",
       "      <th>2</th>\n",
       "      <td>3</td>\n",
       "      <td>March</td>\n",
       "      <td>636475</td>\n",
       "    </tr>\n",
       "    <tr>\n",
       "      <th>3</th>\n",
       "      <td>4</td>\n",
       "      <td>April</td>\n",
       "      <td>515746</td>\n",
       "    </tr>\n",
       "    <tr>\n",
       "      <th>4</th>\n",
       "      <td>5</td>\n",
       "      <td>May</td>\n",
       "      <td>633162</td>\n",
       "    </tr>\n",
       "    <tr>\n",
       "      <th>5</th>\n",
       "      <td>6</td>\n",
       "      <td>June</td>\n",
       "      <td>697014</td>\n",
       "    </tr>\n",
       "    <tr>\n",
       "      <th>6</th>\n",
       "      <td>7</td>\n",
       "      <td>July</td>\n",
       "      <td>717011</td>\n",
       "    </tr>\n",
       "    <tr>\n",
       "      <th>7</th>\n",
       "      <td>8</td>\n",
       "      <td>August</td>\n",
       "      <td>726775</td>\n",
       "    </tr>\n",
       "    <tr>\n",
       "      <th>8</th>\n",
       "      <td>9</td>\n",
       "      <td>September</td>\n",
       "      <td>694201</td>\n",
       "    </tr>\n",
       "    <tr>\n",
       "      <th>9</th>\n",
       "      <td>10</td>\n",
       "      <td>October</td>\n",
       "      <td>725058</td>\n",
       "    </tr>\n",
       "    <tr>\n",
       "      <th>10</th>\n",
       "      <td>11</td>\n",
       "      <td>November</td>\n",
       "      <td>698024</td>\n",
       "    </tr>\n",
       "    <tr>\n",
       "      <th>11</th>\n",
       "      <td>12</td>\n",
       "      <td>December</td>\n",
       "      <td>709795</td>\n",
       "    </tr>\n",
       "  </tbody>\n",
       "</table>\n",
       "</div>"
      ],
      "text/plain": [
       "    month month_name  tran_amount\n",
       "0       1    January       724089\n",
       "1       2   February       645028\n",
       "2       3      March       636475\n",
       "3       4      April       515746\n",
       "4       5        May       633162\n",
       "5       6       June       697014\n",
       "6       7       July       717011\n",
       "7       8     August       726775\n",
       "8       9  September       694201\n",
       "9      10    October       725058\n",
       "10     11   November       698024\n",
       "11     12   December       709795"
      ]
     },
     "execution_count": 249,
     "metadata": {},
     "output_type": "execute_result"
    }
   ],
   "source": [
    "#Top 5 months with highest sales\n",
    "monthly_sales = df.groupby(['month','month_name'])['tran_amount'].sum().reset_index()\n",
    "top_sales = monthly_sales.sort_values(by = 'month')\n",
    "top_sales=pd.DataFrame(top_sales)\n",
    "top_sales"
   ]
  },
  {
   "cell_type": "code",
   "execution_count": 250,
   "id": "65e4ba47",
   "metadata": {},
   "outputs": [
    {
     "data": {
      "image/png": "[encoded data removed]",
      "text/plain": [
       "<Figure size 864x576 with 1 Axes>"
      ]
     },
     "metadata": {},
     "output_type": "display_data"
    }
   ],
   "source": [
    "plt.figure(figsize = (12,8))\n",
    "sns.set_style('whitegrid')\n",
    "ax = sns.barplot(x='month_name',y = 'tran_amount',data = top_sales)\n",
    "\n",
    "for p in ax.patches:\n",
    "    ax.annotate(format(p.get_height(), '.1f'), \n",
    "                (p.get_x() + p.get_width() / 2., p.get_height()), \n",
    "                ha = 'center', va = 'center', \n",
    "                xytext = (0, 9), \n",
    "                textcoords = 'offset points')"
   ]
  },
  {
   "cell_type": "markdown",
   "id": "8374620a",
   "metadata": {},
   "source": [
    "Cummulative sales of each month is highest for the month of august"
   ]
  },
  {
   "cell_type": "code",
   "execution_count": 251,
   "id": "075f3bf5",
   "metadata": {},
   "outputs": [
    {
     "data": {
      "text/html": [
       "<div>\n",
       "<style scoped>\n",
       "    .dataframe tbody tr th:only-of-type {\n",
       "        vertical-align: middle;\n",
       "    }\n",
       "\n",
       "    .dataframe tbody tr th {\n",
       "        vertical-align: top;\n",
       "    }\n",
       "\n",
       "    .dataframe thead th {\n",
       "        text-align: right;\n",
       "    }\n",
       "</style>\n",
       "<table border=\"1\" class=\"dataframe\">\n",
       "  <thead>\n",
       "    <tr style=\"text-align: right;\">\n",
       "      <th></th>\n",
       "      <th>year</th>\n",
       "      <th>tran_amount</th>\n",
       "    </tr>\n",
       "  </thead>\n",
       "  <tbody>\n",
       "    <tr>\n",
       "      <th>2</th>\n",
       "      <td>2013</td>\n",
       "      <td>2137140</td>\n",
       "    </tr>\n",
       "    <tr>\n",
       "      <th>1</th>\n",
       "      <td>2012</td>\n",
       "      <td>2115542</td>\n",
       "    </tr>\n",
       "    <tr>\n",
       "      <th>3</th>\n",
       "      <td>2014</td>\n",
       "      <td>2094508</td>\n",
       "    </tr>\n",
       "    <tr>\n",
       "      <th>0</th>\n",
       "      <td>2011</td>\n",
       "      <td>1340013</td>\n",
       "    </tr>\n",
       "    <tr>\n",
       "      <th>4</th>\n",
       "      <td>2015</td>\n",
       "      <td>435175</td>\n",
       "    </tr>\n",
       "  </tbody>\n",
       "</table>\n",
       "</div>"
      ],
      "text/plain": [
       "   year  tran_amount\n",
       "2  2013      2137140\n",
       "1  2012      2115542\n",
       "3  2014      2094508\n",
       "0  2011      1340013\n",
       "4  2015       435175"
      ]
     },
     "execution_count": 251,
     "metadata": {},
     "output_type": "execute_result"
    }
   ],
   "source": [
    "#Top 5 months with highest sales\n",
    "yearly_sales = df.groupby('year')['tran_amount'].sum().reset_index()\n",
    "top_sales = yearly_sales.sort_values(by = 'tran_amount',ascending = False)\n",
    "top_year_sales=pd.DataFrame(top_sales)\n",
    "top_year_sales.head()"
   ]
  },
  {
   "cell_type": "code",
   "execution_count": 252,
   "id": "e58b6b7a",
   "metadata": {},
   "outputs": [
    {
     "data": {
      "text/plain": [
       "<AxesSubplot:xlabel='year', ylabel='tran_amount'>"
      ]
     },
     "execution_count": 252,
     "metadata": {},
     "output_type": "execute_result"
    },
    {
     "data": {
      "image/png": "[encoded data removed]",
      "text/plain": [
       "<Figure size 432x288 with 1 Axes>"
      ]
     },
     "metadata": {},
     "output_type": "display_data"
    }
   ],
   "source": [
    "sns.barplot(x = 'year',y = 'tran_amount',data = top_year_sales)"
   ]
  },
  {
   "cell_type": "markdown",
   "id": "b42b18ac",
   "metadata": {},
   "source": [
    "Year 2013 has highest number of sales"
   ]
  },
  {
   "cell_type": "code",
   "execution_count": 263,
   "id": "dc060f32",
   "metadata": {},
   "outputs": [
    {
     "data": {
      "text/html": [
       "<div>\n",
       "<style scoped>\n",
       "    .dataframe tbody tr th:only-of-type {\n",
       "        vertical-align: middle;\n",
       "    }\n",
       "\n",
       "    .dataframe tbody tr th {\n",
       "        vertical-align: top;\n",
       "    }\n",
       "\n",
       "    .dataframe thead th {\n",
       "        text-align: right;\n",
       "    }\n",
       "</style>\n",
       "<table border=\"1\" class=\"dataframe\">\n",
       "  <thead>\n",
       "    <tr style=\"text-align: right;\">\n",
       "      <th></th>\n",
       "      <th>trans_date</th>\n",
       "      <th>tran_amount</th>\n",
       "    </tr>\n",
       "  </thead>\n",
       "  <tbody>\n",
       "    <tr>\n",
       "      <th>0</th>\n",
       "      <td>2011-07-16</td>\n",
       "      <td>141</td>\n",
       "    </tr>\n",
       "    <tr>\n",
       "      <th>1</th>\n",
       "      <td>2014-04-15</td>\n",
       "      <td>124</td>\n",
       "    </tr>\n",
       "    <tr>\n",
       "      <th>2</th>\n",
       "      <td>2011-09-18</td>\n",
       "      <td>124</td>\n",
       "    </tr>\n",
       "    <tr>\n",
       "      <th>3</th>\n",
       "      <td>2011-08-11</td>\n",
       "      <td>122</td>\n",
       "    </tr>\n",
       "    <tr>\n",
       "      <th>4</th>\n",
       "      <td>2014-09-28</td>\n",
       "      <td>121</td>\n",
       "    </tr>\n",
       "  </tbody>\n",
       "</table>\n",
       "</div>"
      ],
      "text/plain": [
       "  trans_date  tran_amount\n",
       "0 2011-07-16          141\n",
       "1 2014-04-15          124\n",
       "2 2011-09-18          124\n",
       "3 2011-08-11          122\n",
       "4 2014-09-28          121"
      ]
     },
     "execution_count": 263,
     "metadata": {},
     "output_type": "execute_result"
    }
   ],
   "source": [
    "#Top 5 days in the history of sales\n",
    "top5days=pd.DataFrame(df.groupby(['trans_date'])['tran_amount'].count().sort_values(ascending = False)).reset_index().head()\n",
    "top5days"
   ]
  },
  {
   "cell_type": "code",
   "execution_count": 206,
   "id": "4fa822b0",
   "metadata": {},
   "outputs": [
    {
     "data": {
      "text/html": [
       "<div>\n",
       "<style scoped>\n",
       "    .dataframe tbody tr th:only-of-type {\n",
       "        vertical-align: middle;\n",
       "    }\n",
       "\n",
       "    .dataframe tbody tr th {\n",
       "        vertical-align: top;\n",
       "    }\n",
       "\n",
       "    .dataframe thead th {\n",
       "        text-align: right;\n",
       "    }\n",
       "</style>\n",
       "<table border=\"1\" class=\"dataframe\">\n",
       "  <thead>\n",
       "    <tr style=\"text-align: right;\">\n",
       "      <th></th>\n",
       "      <th>response</th>\n",
       "      <th>year</th>\n",
       "      <th>customer_id</th>\n",
       "    </tr>\n",
       "  </thead>\n",
       "  <tbody>\n",
       "    <tr>\n",
       "      <th>0</th>\n",
       "      <td>0</td>\n",
       "      <td>2011</td>\n",
       "      <td>18619</td>\n",
       "    </tr>\n",
       "    <tr>\n",
       "      <th>1</th>\n",
       "      <td>0</td>\n",
       "      <td>2012</td>\n",
       "      <td>29225</td>\n",
       "    </tr>\n",
       "    <tr>\n",
       "      <th>2</th>\n",
       "      <td>0</td>\n",
       "      <td>2013</td>\n",
       "      <td>28997</td>\n",
       "    </tr>\n",
       "    <tr>\n",
       "      <th>3</th>\n",
       "      <td>0</td>\n",
       "      <td>2014</td>\n",
       "      <td>28183</td>\n",
       "    </tr>\n",
       "    <tr>\n",
       "      <th>4</th>\n",
       "      <td>0</td>\n",
       "      <td>2015</td>\n",
       "      <td>6103</td>\n",
       "    </tr>\n",
       "    <tr>\n",
       "      <th>5</th>\n",
       "      <td>1</td>\n",
       "      <td>2011</td>\n",
       "      <td>2032</td>\n",
       "    </tr>\n",
       "    <tr>\n",
       "      <th>6</th>\n",
       "      <td>1</td>\n",
       "      <td>2012</td>\n",
       "      <td>3296</td>\n",
       "    </tr>\n",
       "    <tr>\n",
       "      <th>7</th>\n",
       "      <td>1</td>\n",
       "      <td>2013</td>\n",
       "      <td>3903</td>\n",
       "    </tr>\n",
       "    <tr>\n",
       "      <th>8</th>\n",
       "      <td>1</td>\n",
       "      <td>2014</td>\n",
       "      <td>4043</td>\n",
       "    </tr>\n",
       "    <tr>\n",
       "      <th>9</th>\n",
       "      <td>1</td>\n",
       "      <td>2015</td>\n",
       "      <td>568</td>\n",
       "    </tr>\n",
       "  </tbody>\n",
       "</table>\n",
       "</div>"
      ],
      "text/plain": [
       "   response  year  customer_id\n",
       "0         0  2011        18619\n",
       "1         0  2012        29225\n",
       "2         0  2013        28997\n",
       "3         0  2014        28183\n",
       "4         0  2015         6103\n",
       "5         1  2011         2032\n",
       "6         1  2012         3296\n",
       "7         1  2013         3903\n",
       "8         1  2014         4043\n",
       "9         1  2015          568"
      ]
     },
     "execution_count": 206,
     "metadata": {},
     "output_type": "execute_result"
    }
   ],
   "source": [
    "pd.DataFrame(df.groupby(['response','year'])['customer_id'].count()).reset_index()"
   ]
  },
  {
   "cell_type": "markdown",
   "id": "cdcc2031",
   "metadata": {},
   "source": [
    "# Time-Series Analysis"
   ]
  },
  {
   "cell_type": "code",
   "execution_count": 276,
   "id": "f6103c14",
   "metadata": {},
   "outputs": [
    {
     "data": {
      "image/png": "[encoded data removed]",
      "text/plain": [
       "<Figure size 864x432 with 1 Axes>"
      ]
     },
     "metadata": {},
     "output_type": "display_data"
    }
   ],
   "source": [
    "import matplotlib.dates as mdates\n",
    "\n",
    "df['month_year'] = df['trans_date'].dt.to_period('M')\n",
    "monthly_sales = df.groupby('month_year')['tran_amount'].sum()\n",
    "\n",
    "monthly_sales.index = monthly_sales.index.to_timestamp()\n",
    "\n",
    "plt.figure(figsize = (12,6))\n",
    "plt.plot(np.array(monthly_sales.index),np.array(monthly_sales.values))\n",
    "\n",
    "plt.gca().xaxis.set_major_formatter(mdates.DateFormatter('%Y-%m'))\n",
    "plt.gca().xaxis.set_major_locator(mdates.MonthLocator(interval = 6))\n",
    "plt.xlabel('Month-Year')\n",
    "plt.ylabel('Sales')\n",
    "plt.title('Monthly Sales')\n",
    "plt.xticks(rotation =45)\n",
    "\n",
    "plt.show()\n"
   ]
  },
  {
   "cell_type": "markdown",
   "id": "def306d9",
   "metadata": {},
   "source": [
    "The sales have been on top in the period of may-2011 and november-2011 and have a huge drop during the period november-2013 and may-2014"
   ]
  },
  {
   "cell_type": "markdown",
   "id": "4b60d9af",
   "metadata": {},
   "source": [
    "# Cohort Segmentation"
   ]
  },
  {
   "cell_type": "code",
   "execution_count": 284,
   "id": "180ec569",
   "metadata": {},
   "outputs": [
    {
     "data": {
      "text/html": [
       "<div>\n",
       "<style scoped>\n",
       "    .dataframe tbody tr th:only-of-type {\n",
       "        vertical-align: middle;\n",
       "    }\n",
       "\n",
       "    .dataframe tbody tr th {\n",
       "        vertical-align: top;\n",
       "    }\n",
       "\n",
       "    .dataframe thead th {\n",
       "        text-align: right;\n",
       "    }\n",
       "</style>\n",
       "<table border=\"1\" class=\"dataframe\">\n",
       "  <thead>\n",
       "    <tr style=\"text-align: right;\">\n",
       "      <th></th>\n",
       "      <th>recency</th>\n",
       "      <th>frequency</th>\n",
       "      <th>monetary</th>\n",
       "    </tr>\n",
       "    <tr>\n",
       "      <th>customer_id</th>\n",
       "      <th></th>\n",
       "      <th></th>\n",
       "      <th></th>\n",
       "    </tr>\n",
       "  </thead>\n",
       "  <tbody>\n",
       "    <tr>\n",
       "      <th>CS1112</th>\n",
       "      <td>2015-01-14</td>\n",
       "      <td>15</td>\n",
       "      <td>1012</td>\n",
       "    </tr>\n",
       "    <tr>\n",
       "      <th>CS1113</th>\n",
       "      <td>2015-02-09</td>\n",
       "      <td>20</td>\n",
       "      <td>1490</td>\n",
       "    </tr>\n",
       "    <tr>\n",
       "      <th>CS1114</th>\n",
       "      <td>2015-02-12</td>\n",
       "      <td>19</td>\n",
       "      <td>1432</td>\n",
       "    </tr>\n",
       "    <tr>\n",
       "      <th>CS1115</th>\n",
       "      <td>2015-03-05</td>\n",
       "      <td>22</td>\n",
       "      <td>1659</td>\n",
       "    </tr>\n",
       "    <tr>\n",
       "      <th>CS1116</th>\n",
       "      <td>2014-08-25</td>\n",
       "      <td>13</td>\n",
       "      <td>857</td>\n",
       "    </tr>\n",
       "  </tbody>\n",
       "</table>\n",
       "</div>"
      ],
      "text/plain": [
       "               recency  frequency  monetary\n",
       "customer_id                                \n",
       "CS1112      2015-01-14         15      1012\n",
       "CS1113      2015-02-09         20      1490\n",
       "CS1114      2015-02-12         19      1432\n",
       "CS1115      2015-03-05         22      1659\n",
       "CS1116      2014-08-25         13       857"
      ]
     },
     "execution_count": 284,
     "metadata": {},
     "output_type": "execute_result"
    }
   ],
   "source": [
    "#recency\n",
    "recency = df.groupby('customer_id')['trans_date'].max()\n",
    "\n",
    "#frequency\n",
    "frequency= df.groupby('customer_id')['trans_date'].count()\n",
    "\n",
    "#monetary\n",
    "monetary = df.groupby('customer_id')['tran_amount'].sum()\n",
    "\n",
    "rfm = pd.DataFrame({'recency':recency,'frequency':frequency,\"monetary\":monetary})\n",
    "rfm.head()"
   ]
  },
  {
   "cell_type": "code",
   "execution_count": 290,
   "id": "1dcbcd42",
   "metadata": {},
   "outputs": [],
   "source": [
    "#customer segmentation\n",
    "\n",
    "def segment_customer(row):\n",
    "    if row['recency'].year >= 2012 and row['frequency'] >= 15 and row['monetary']>1000:\n",
    "        return 'P0'\n",
    "    elif (2011 <= row['recency'].year < 2012) and (10 < row['frequency'] < 15) and (500 <= row['monetary'] <=1000):\n",
    "        return 'P1'\n",
    "    else:\n",
    "        return 'P2'\n",
    "    \n",
    "    \n",
    "rfm['Segment'] = rfm.apply(segment_customer,axis = 1)"
   ]
  },
  {
   "cell_type": "markdown",
   "id": "fdf834ad",
   "metadata": {},
   "source": [
    "# Analysing Top Customers"
   ]
  },
  {
   "cell_type": "code",
   "execution_count": 323,
   "id": "736512e7",
   "metadata": {},
   "outputs": [
    {
     "data": {
      "text/plain": [
       "<AxesSubplot:xlabel='month_year'>"
      ]
     },
     "execution_count": 323,
     "metadata": {},
     "output_type": "execute_result"
    },
    {
     "data": {
      "image/png": "[encoded data removed]",
      "text/plain": [
       "<Figure size 432x288 with 1 Axes>"
      ]
     },
     "metadata": {},
     "output_type": "display_data"
    }
   ],
   "source": [
    "top5cus=monetary.sort_values(ascending = False).head().index\n",
    "topcustomers_df = df[df['customer_id'].isin(top5cus)]\n",
    "topcustomers_sales = topcustomers_df.groupby(['customer_id','month_year'])['tran_amount'].sum().unstack(level = 0)\n",
    "topcustomers_sales.plot(kind = 'line')"
   ]
  },
  {
   "cell_type": "markdown",
   "id": "0e26f011",
   "metadata": {},
   "source": [
    "These 5 customers have been constantly purchasing products over a given period of time."
   ]
  },
  {
   "cell_type": "markdown",
   "id": "2a295d56",
   "metadata": {},
   "source": [
    "# Churn Analysis"
   ]
  },
  {
   "cell_type": "code",
   "execution_count": 340,
   "id": "2dd728ef",
   "metadata": {},
   "outputs": [],
   "source": [
    "#This function whether the customer is churned or not. \n",
    "#This is basically done by looking at the most recent transaction of the customer and no of times the transaction is made.\n",
    "def churn(data):\n",
    "    if(data['recency'].year >= 2014):#This condition will ensure that the customer has made a transaction atleast a year before\n",
    "        return 0 #0 indicates that the customer is not churned\n",
    "    else:\n",
    "        return 1 #1 indicates that the customer is churned\n",
    "rfm['churned'] = rfm.apply(churn,axis = 1)"
   ]
  },
  {
   "cell_type": "markdown",
   "id": "d549d06c",
   "metadata": {},
   "source": [
    "Frequency Factor is not considered in churn analysis because there might be some new customers who have just started purchasing from 2014. So, involving the frequency factor might label them as churned customer."
   ]
  },
  {
   "cell_type": "code",
   "execution_count": 343,
   "id": "ea2bd069",
   "metadata": {
    "scrolled": true
   },
   "outputs": [
    {
     "name": "stdout",
     "output_type": "stream",
     "text": [
      "No of churned customers:  38\n"
     ]
    }
   ],
   "source": [
    "print('No of churned customers: ',rfm[rfm['churned'] == 1].shape[0])"
   ]
  },
  {
   "cell_type": "markdown",
   "id": "05ec9f63",
   "metadata": {},
   "source": [
    "These 38 people have not purchased a product since 2014."
   ]
  },
  {
   "cell_type": "code",
   "execution_count": 353,
   "id": "ed6238da",
   "metadata": {},
   "outputs": [],
   "source": [
    "df.to_csv('MainData.csv')"
   ]
  },
  {
   "cell_type": "code",
   "execution_count": 354,
   "id": "c6b32d1b",
   "metadata": {},
   "outputs": [],
   "source": [
    "rfm.to_csv('AddAnalysis.csv')"
   ]
  }
 ],
 "metadata": {
  "kernelspec": {
   "display_name": "Python 3",
   "language": "python",
   "name": "python3"
  },
  "language_info": {
   "codemirror_mode": {
    "name": "ipython",
    "version": 3
   },
   "file_extension": ".py",
   "mimetype": "text/x-python",
   "name": "python",
   "nbconvert_exporter": "python",
   "pygments_lexer": "ipython3",
   "version": "3.8.8"
  }
 },
 "nbformat": 4,
 "nbformat_minor": 5
}
